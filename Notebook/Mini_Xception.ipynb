{
  "nbformat": 4,
  "nbformat_minor": 0,
  "metadata": {
    "colab": {
      "name": "Mini-Xception.ipynb",
      "provenance": [],
      "collapsed_sections": []
    },
    "kernelspec": {
      "name": "python3",
      "display_name": "Python 3"
    },
    "language_info": {
      "name": "python"
    },
    "accelerator": "GPU"
  },
  "cells": [
    {
      "cell_type": "code",
      "metadata": {
        "id": "bwmaZ_NBuXGU",
        "colab": {
          "base_uri": "https://localhost:8080/"
        },
        "outputId": "673cf1d0-5a48-49d8-e78f-280447cde37d"
      },
      "source": [
        "from google.colab import drive\n",
        "drive.mount('/content/drive')"
      ],
      "execution_count": null,
      "outputs": [
        {
          "output_type": "stream",
          "text": [
            "Drive already mounted at /content/drive; to attempt to forcibly remount, call drive.mount(\"/content/drive\", force_remount=True).\n"
          ],
          "name": "stdout"
        }
      ]
    },
    {
      "cell_type": "code",
      "metadata": {
        "colab": {
          "base_uri": "https://localhost:8080/"
        },
        "id": "BkRzW0lmvrrH",
        "outputId": "656e0a99-c792-490d-ef3b-d42b85877782"
      },
      "source": [
        "%cd /content/drive/MyDrive/Thesis_Facial_Exp_Recognition/Dataset/FER-2013"
      ],
      "execution_count": null,
      "outputs": [
        {
          "output_type": "stream",
          "text": [
            "/content/drive/MyDrive/Thesis_Facial_Exp_Recognition/Dataset/FER-2013\n"
          ],
          "name": "stdout"
        }
      ]
    },
    {
      "cell_type": "code",
      "metadata": {
        "colab": {
          "base_uri": "https://localhost:8080/"
        },
        "id": "D8YhX5A4v0lW",
        "outputId": "5b056a3c-03a1-4b77-d25e-31736589b109"
      },
      "source": [
        "!ls"
      ],
      "execution_count": null,
      "outputs": [
        {
          "output_type": "stream",
          "text": [
            "archive-FER-2013-Kaggle.zip  test  train\n"
          ],
          "name": "stdout"
        }
      ]
    },
    {
      "cell_type": "code",
      "metadata": {
        "id": "zHUD3Z6Jv4Sm"
      },
      "source": [
        "#Extraer FER-2013\n",
        "'''import zipfile\n",
        "\n",
        "zipfilename = \"archive-FER-2013-Kaggle.zip\"\n",
        "password = None\n",
        "\n",
        "# open and extract all files in the zip\n",
        "z = zipfile.ZipFile(zipfilename, \"r\")\n",
        "try:\n",
        "    z.extractall(pwd=password)\n",
        "except:\n",
        "    print('Error')\n",
        "    pass\n",
        "z.close()'''"
      ],
      "execution_count": null,
      "outputs": []
    },
    {
      "cell_type": "code",
      "metadata": {
        "colab": {
          "base_uri": "https://localhost:8080/"
        },
        "id": "KvkjEEP31mF_",
        "outputId": "91f81b5a-103b-4ab7-debe-8c6d810b5e55"
      },
      "source": [
        "import pandas as pd\n",
        "import cv2\n",
        "import numpy as np \n",
        "from sklearn.model_selection import train_test_split\n",
        "import os\n",
        "files=os.listdir('/content/drive/MyDrive/Thesis_Facial_Exp_Recognition/Dataset/FER-2013/train')\n",
        "files"
      ],
      "execution_count": null,
      "outputs": [
        {
          "output_type": "execute_result",
          "data": {
            "text/plain": [
              "['happy', 'angry', 'disgust', 'fear', 'neutral', 'sad', 'surprise']"
            ]
          },
          "metadata": {
            "tags": []
          },
          "execution_count": 4
        }
      ]
    },
    {
      "cell_type": "code",
      "metadata": {
        "colab": {
          "base_uri": "https://localhost:8080/"
        },
        "id": "Jp9p3SkX4yAl",
        "outputId": "2840e345-3927-4b22-e077-0d3c784b6401"
      },
      "source": [
        "import os,cv2\n",
        "directory='/content/drive/MyDrive/Thesis_Facial_Exp_Recognition/Dataset/FER-2013/train'\n",
        "dir_list=os.listdir(directory)\n",
        "image_data_list=[]\n",
        "labels=[]\n",
        "emotions=[]\n",
        "l=0\n",
        "for data_dir in dir_list:\n",
        "    data_list=os.listdir(directory+'/'+data_dir)\n",
        "    for img in data_list:\n",
        "        input_img=cv2.imread(directory+'/'+data_dir+'/'+img)\n",
        "        input_img=cv2.resize(input_img,(48,48))\n",
        "        image_data_list.append(input_img)\n",
        "        labels.append(l)\n",
        "    emotions.append(data_dir)\n",
        "    l=l+1\n",
        "img_data=np.array(image_data_list)\n",
        "img_data=img_data/255\n",
        "img_data.shape"
      ],
      "execution_count": null,
      "outputs": [
        {
          "output_type": "execute_result",
          "data": {
            "text/plain": [
              "(28709, 48, 48, 3)"
            ]
          },
          "metadata": {
            "tags": []
          },
          "execution_count": 6
        }
      ]
    },
    {
      "cell_type": "code",
      "metadata": {
        "id": "PmLl16PLkBYE"
      },
      "source": [
        "#Guardar matrices\n",
        "'''np.save(\"img_data.npy\", img_data)\n",
        "np.save(\"emotions.npy\", emotions)\n",
        "np.save(\"labels\",labels)'''\n",
        "#Cargar matrices guardadas (preprocesado de imagenes)\n",
        "img_data = np.load(img_data.npy)\n",
        "emotions = np.load(emotions.npy)\n",
        "labels = np.load(labels.npy)"
      ],
      "execution_count": null,
      "outputs": []
    },
    {
      "cell_type": "code",
      "metadata": {
        "id": "RI_O5HDedKIY"
      },
      "source": [
        "from tensorflow import keras\n",
        "from sklearn.model_selection import train_test_split\n",
        "num_classes=7\n",
        "emotions = pd.get_dummies(labels).values\n",
        "#Y = keras.utils.to_categorical(labels, num_classes)\n",
        "X_train, X_test, y_train, y_test = train_test_split(img_data, emotions, test_size=0.2)"
      ],
      "execution_count": null,
      "outputs": []
    },
    {
      "cell_type": "code",
      "metadata": {
        "colab": {
          "base_uri": "https://localhost:8080/"
        },
        "id": "EIhNU4QedNJ3",
        "outputId": "a6815757-9b74-4885-fc94-677d22a3f39a"
      },
      "source": [
        "emotions.shape"
      ],
      "execution_count": null,
      "outputs": [
        {
          "output_type": "execute_result",
          "data": {
            "text/plain": [
              "(28709, 7)"
            ]
          },
          "metadata": {
            "tags": []
          },
          "execution_count": 8
        }
      ]
    },
    {
      "cell_type": "code",
      "metadata": {
        "colab": {
          "base_uri": "https://localhost:8080/",
          "height": 267
        },
        "id": "leOEazdxdPrY",
        "outputId": "781b8a74-0aa3-4f87-9ed8-e939371b9286"
      },
      "source": [
        "from matplotlib import pyplot as plt\n",
        "plt.imshow(img_data[27500], interpolation='nearest')\n",
        "plt.show()"
      ],
      "execution_count": null,
      "outputs": [
        {
          "output_type": "display_data",
          "data": {
            "image/png": "[encoded data removed]",
            "text/plain": [
              "<Figure size 432x288 with 1 Axes>"
            ]
          },
          "metadata": {
            "tags": [],
            "needs_background": "light"
          }
        }
      ]
    },
    {
      "cell_type": "code",
      "metadata": {
        "id": "7_e6v3GUdTbG"
      },
      "source": [
        "from keras.callbacks import CSVLogger, ModelCheckpoint, EarlyStopping, ReduceLROnPlateau"
      ],
      "execution_count": null,
      "outputs": []
    },
    {
      "cell_type": "code",
      "metadata": {
        "id": "j67H1SukdWeu"
      },
      "source": [
        "from keras.preprocessing.image import ImageDataGenerator"
      ],
      "execution_count": null,
      "outputs": []
    },
    {
      "cell_type": "code",
      "metadata": {
        "id": "_z-Eht0mdYdG"
      },
      "source": [
        "from keras import layers\n",
        "from keras.layers import Activation, Convolution2D, Conv2D, Dropout, AveragePooling2D, BatchNormalization, GlobalAveragePooling2D, Flatten, Input, MaxPooling2D, SeparableConv2D"
      ],
      "execution_count": null,
      "outputs": []
    },
    {
      "cell_type": "code",
      "metadata": {
        "id": "oies1A74dbN2"
      },
      "source": [
        "from keras.models import Model"
      ],
      "execution_count": null,
      "outputs": []
    },
    {
      "cell_type": "code",
      "metadata": {
        "id": "suIC_dUmdd0O"
      },
      "source": [
        "from keras.regularizers import l2"
      ],
      "execution_count": null,
      "outputs": []
    },
    {
      "cell_type": "code",
      "metadata": {
        "id": "Ss-HbqqadgSt"
      },
      "source": [
        "#parameters \n",
        "\n",
        "batch_size = 32\n",
        "epochs = 50\n",
        "image_shape = (48, 48, 3)\n",
        "verbose = True \n",
        "num_class = 7\n",
        "patience = 50  # number of epochs with no improvement after which training will be stopped\n",
        "base_path = './'\n",
        "l2_regularization = 0.01"
      ],
      "execution_count": null,
      "outputs": []
    },
    {
      "cell_type": "code",
      "metadata": {
        "id": "Z7M5FB4qdinQ"
      },
      "source": [
        "data_generator = ImageDataGenerator(featurewise_center=False, featurewise_std_normalization=False, rotation_range=10, \n",
        "                                    width_shift_range=0.1, height_shift_range=0.1, zoom_range=.1, horizontal_flip=True)"
      ],
      "execution_count": null,
      "outputs": []
    },
    {
      "cell_type": "code",
      "metadata": {
        "id": "rSbn3Paidk1W"
      },
      "source": [
        "regularization = l2(l2_regularization)"
      ],
      "execution_count": null,
      "outputs": []
    },
    {
      "cell_type": "code",
      "metadata": {
        "id": "av1Fhj7ldpoQ"
      },
      "source": [
        "# model\n",
        "image_input = Input(image_shape)\n",
        "x = Conv2D(filters=8, kernel_size=(3,3), strides=(1,1), kernel_regularizer=regularization, use_bias=False)(image_input)\n",
        "x = BatchNormalization()(x)\n",
        "x = Activation('relu')(x)\n",
        "x = Conv2D(filters=8, kernel_size=(3,3), strides=(1,1), kernel_regularizer=regularization, use_bias=False)(x)\n",
        "x = BatchNormalization()(x)\n",
        "x = Activation('relu')(x)\n",
        "\n",
        "# module 1\n",
        "# residual module \n",
        "residual = Conv2D(filters=16, kernel_size=(1,1), strides=(2,2), padding='same', use_bias=False)(x)\n",
        "residual = BatchNormalization()(residual)\n",
        "\n",
        "x = SeparableConv2D(filters=16, kernel_size=(3,3), padding='same', kernel_regularizer=regularization, use_bias=False)(x)\n",
        "x = BatchNormalization()(x)\n",
        "x = Activation('relu')(x)\n",
        "x = SeparableConv2D(filters=16, kernel_size=(3,3), padding='same', kernel_regularizer=regularization, use_bias=False)(x)\n",
        "x = BatchNormalization()(x)\n",
        "x = MaxPooling2D(pool_size=(3,3), strides=(2,2), padding='same')(x)\n",
        "x = layers.add([x,residual])\n",
        "\n",
        "# module 2\n",
        "# residual module \n",
        "residual = Conv2D(filters=32, kernel_size=(1,1), strides=(2,2), padding='same', use_bias=False)(x)\n",
        "residual = BatchNormalization()(residual)\n",
        "\n",
        "x = SeparableConv2D(filters=32, kernel_size=(3,3), padding='same', kernel_regularizer=regularization, use_bias=False)(x)\n",
        "x = BatchNormalization()(x)\n",
        "x = Activation('relu')(x)\n",
        "x = SeparableConv2D(filters=32, kernel_size=(3,3), padding='same', kernel_regularizer=regularization, use_bias=False)(x)\n",
        "x = BatchNormalization()(x)\n",
        "x = MaxPooling2D(pool_size=(3,3), strides=(2,2), padding='same')(x)\n",
        "x = layers.add([x,residual])\n",
        "\n",
        "# module 3\n",
        "# residual module \n",
        "residual = Conv2D(filters=64, kernel_size=(1,1), strides=(2,2), padding='same', use_bias=False)(x)\n",
        "residual = BatchNormalization()(residual)\n",
        "\n",
        "x = SeparableConv2D(filters=64, kernel_size=(3,3), padding='same', kernel_regularizer=regularization, use_bias=False)(x)\n",
        "x = BatchNormalization()(x)\n",
        "x = Activation('relu')(x)\n",
        "x = SeparableConv2D(filters=64, kernel_size=(3,3), padding='same', kernel_regularizer=regularization, use_bias=False)(x)\n",
        "x = BatchNormalization()(x)\n",
        "x = MaxPooling2D(pool_size=(3,3), strides=(2,2), padding='same')(x)\n",
        "x = layers.add([x,residual])\n",
        "\n",
        "# module 4\n",
        "# residual module \n",
        "residual = Conv2D(filters=128, kernel_size=(1,1), strides=(2,2), padding='same', use_bias=False)(x)\n",
        "residual = BatchNormalization()(residual)\n",
        "\n",
        "x = SeparableConv2D(filters=128, kernel_size=(3,3), padding='same', kernel_regularizer=regularization, use_bias=False)(x)\n",
        "x = BatchNormalization()(x)\n",
        "x = Activation('relu')(x)\n",
        "x = SeparableConv2D(filters=128, kernel_size=(3,3), padding='same', kernel_regularizer=regularization, use_bias=False)(x)\n",
        "x = BatchNormalization()(x)\n",
        "x = MaxPooling2D(pool_size=(3,3), strides=(2,2), padding='same')(x)\n",
        "x = layers.add([x,residual])\n",
        "\n",
        "x = Conv2D(filters=num_class, kernel_size=(3,3), padding='same')(x)\n",
        "x = GlobalAveragePooling2D()(x)\n",
        "\n",
        "output = Activation('softmax', name='predictions')(x)"
      ],
      "execution_count": null,
      "outputs": []
    },
    {
      "cell_type": "code",
      "metadata": {
        "colab": {
          "base_uri": "https://localhost:8080/"
        },
        "id": "nVN-K7WydsqN",
        "outputId": "d51f554f-5b6e-4f66-b4ce-dd849c03e700"
      },
      "source": [
        "model = Model(image_input, output)\n",
        "model.compile(optimizer='adam', loss='categorical_crossentropy', metrics=['accuracy'])\n",
        "model.summary()"
      ],
      "execution_count": null,
      "outputs": [
        {
          "output_type": "stream",
          "text": [
            "Model: \"model\"\n",
            "__________________________________________________________________________________________________\n",
            "Layer (type)                    Output Shape         Param #     Connected to                     \n",
            "==================================================================================================\n",
            "input_1 (InputLayer)            [(None, 48, 48, 3)]  0                                            \n",
            "__________________________________________________________________________________________________\n",
            "conv2d (Conv2D)                 (None, 46, 46, 8)    216         input_1[0][0]                    \n",
            "__________________________________________________________________________________________________\n",
            "batch_normalization (BatchNorma (None, 46, 46, 8)    32          conv2d[0][0]                     \n",
            "__________________________________________________________________________________________________\n",
            "activation (Activation)         (None, 46, 46, 8)    0           batch_normalization[0][0]        \n",
            "__________________________________________________________________________________________________\n",
            "conv2d_1 (Conv2D)               (None, 44, 44, 8)    576         activation[0][0]                 \n",
            "__________________________________________________________________________________________________\n",
            "batch_normalization_1 (BatchNor (None, 44, 44, 8)    32          conv2d_1[0][0]                   \n",
            "__________________________________________________________________________________________________\n",
            "activation_1 (Activation)       (None, 44, 44, 8)    0           batch_normalization_1[0][0]      \n",
            "__________________________________________________________________________________________________\n",
            "separable_conv2d (SeparableConv (None, 44, 44, 16)   200         activation_1[0][0]               \n",
            "__________________________________________________________________________________________________\n",
            "batch_normalization_3 (BatchNor (None, 44, 44, 16)   64          separable_conv2d[0][0]           \n",
            "__________________________________________________________________________________________________\n",
            "activation_2 (Activation)       (None, 44, 44, 16)   0           batch_normalization_3[0][0]      \n",
            "__________________________________________________________________________________________________\n",
            "separable_conv2d_1 (SeparableCo (None, 44, 44, 16)   400         activation_2[0][0]               \n",
            "__________________________________________________________________________________________________\n",
            "batch_normalization_4 (BatchNor (None, 44, 44, 16)   64          separable_conv2d_1[0][0]         \n",
            "__________________________________________________________________________________________________\n",
            "conv2d_2 (Conv2D)               (None, 22, 22, 16)   128         activation_1[0][0]               \n",
            "__________________________________________________________________________________________________\n",
            "max_pooling2d (MaxPooling2D)    (None, 22, 22, 16)   0           batch_normalization_4[0][0]      \n",
            "__________________________________________________________________________________________________\n",
            "batch_normalization_2 (BatchNor (None, 22, 22, 16)   64          conv2d_2[0][0]                   \n",
            "__________________________________________________________________________________________________\n",
            "add (Add)                       (None, 22, 22, 16)   0           max_pooling2d[0][0]              \n",
            "                                                                 batch_normalization_2[0][0]      \n",
            "__________________________________________________________________________________________________\n",
            "separable_conv2d_2 (SeparableCo (None, 22, 22, 32)   656         add[0][0]                        \n",
            "__________________________________________________________________________________________________\n",
            "batch_normalization_6 (BatchNor (None, 22, 22, 32)   128         separable_conv2d_2[0][0]         \n",
            "__________________________________________________________________________________________________\n",
            "activation_3 (Activation)       (None, 22, 22, 32)   0           batch_normalization_6[0][0]      \n",
            "__________________________________________________________________________________________________\n",
            "separable_conv2d_3 (SeparableCo (None, 22, 22, 32)   1312        activation_3[0][0]               \n",
            "__________________________________________________________________________________________________\n",
            "batch_normalization_7 (BatchNor (None, 22, 22, 32)   128         separable_conv2d_3[0][0]         \n",
            "__________________________________________________________________________________________________\n",
            "conv2d_3 (Conv2D)               (None, 11, 11, 32)   512         add[0][0]                        \n",
            "__________________________________________________________________________________________________\n",
            "max_pooling2d_1 (MaxPooling2D)  (None, 11, 11, 32)   0           batch_normalization_7[0][0]      \n",
            "__________________________________________________________________________________________________\n",
            "batch_normalization_5 (BatchNor (None, 11, 11, 32)   128         conv2d_3[0][0]                   \n",
            "__________________________________________________________________________________________________\n",
            "add_1 (Add)                     (None, 11, 11, 32)   0           max_pooling2d_1[0][0]            \n",
            "                                                                 batch_normalization_5[0][0]      \n",
            "__________________________________________________________________________________________________\n",
            "separable_conv2d_4 (SeparableCo (None, 11, 11, 64)   2336        add_1[0][0]                      \n",
            "__________________________________________________________________________________________________\n",
            "batch_normalization_9 (BatchNor (None, 11, 11, 64)   256         separable_conv2d_4[0][0]         \n",
            "__________________________________________________________________________________________________\n",
            "activation_4 (Activation)       (None, 11, 11, 64)   0           batch_normalization_9[0][0]      \n",
            "__________________________________________________________________________________________________\n",
            "separable_conv2d_5 (SeparableCo (None, 11, 11, 64)   4672        activation_4[0][0]               \n",
            "__________________________________________________________________________________________________\n",
            "batch_normalization_10 (BatchNo (None, 11, 11, 64)   256         separable_conv2d_5[0][0]         \n",
            "__________________________________________________________________________________________________\n",
            "conv2d_4 (Conv2D)               (None, 6, 6, 64)     2048        add_1[0][0]                      \n",
            "__________________________________________________________________________________________________\n",
            "max_pooling2d_2 (MaxPooling2D)  (None, 6, 6, 64)     0           batch_normalization_10[0][0]     \n",
            "__________________________________________________________________________________________________\n",
            "batch_normalization_8 (BatchNor (None, 6, 6, 64)     256         conv2d_4[0][0]                   \n",
            "__________________________________________________________________________________________________\n",
            "add_2 (Add)                     (None, 6, 6, 64)     0           max_pooling2d_2[0][0]            \n",
            "                                                                 batch_normalization_8[0][0]      \n",
            "__________________________________________________________________________________________________\n",
            "separable_conv2d_6 (SeparableCo (None, 6, 6, 128)    8768        add_2[0][0]                      \n",
            "__________________________________________________________________________________________________\n",
            "batch_normalization_12 (BatchNo (None, 6, 6, 128)    512         separable_conv2d_6[0][0]         \n",
            "__________________________________________________________________________________________________\n",
            "activation_5 (Activation)       (None, 6, 6, 128)    0           batch_normalization_12[0][0]     \n",
            "__________________________________________________________________________________________________\n",
            "separable_conv2d_7 (SeparableCo (None, 6, 6, 128)    17536       activation_5[0][0]               \n",
            "__________________________________________________________________________________________________\n",
            "batch_normalization_13 (BatchNo (None, 6, 6, 128)    512         separable_conv2d_7[0][0]         \n",
            "__________________________________________________________________________________________________\n",
            "conv2d_5 (Conv2D)               (None, 3, 3, 128)    8192        add_2[0][0]                      \n",
            "__________________________________________________________________________________________________\n",
            "max_pooling2d_3 (MaxPooling2D)  (None, 3, 3, 128)    0           batch_normalization_13[0][0]     \n",
            "__________________________________________________________________________________________________\n",
            "batch_normalization_11 (BatchNo (None, 3, 3, 128)    512         conv2d_5[0][0]                   \n",
            "__________________________________________________________________________________________________\n",
            "add_3 (Add)                     (None, 3, 3, 128)    0           max_pooling2d_3[0][0]            \n",
            "                                                                 batch_normalization_11[0][0]     \n",
            "__________________________________________________________________________________________________\n",
            "conv2d_6 (Conv2D)               (None, 3, 3, 7)      8071        add_3[0][0]                      \n",
            "__________________________________________________________________________________________________\n",
            "global_average_pooling2d (Globa (None, 7)            0           conv2d_6[0][0]                   \n",
            "__________________________________________________________________________________________________\n",
            "predictions (Activation)        (None, 7)            0           global_average_pooling2d[0][0]   \n",
            "==================================================================================================\n",
            "Total params: 58,567\n",
            "Trainable params: 57,095\n",
            "Non-trainable params: 1,472\n",
            "__________________________________________________________________________________________________\n"
          ],
          "name": "stdout"
        }
      ]
    },
    {
      "cell_type": "code",
      "metadata": {
        "id": "hM8Tfzv5dx8s"
      },
      "source": [
        "# callbacks \n",
        "early_stop = EarlyStopping(monitor='val_loss', patience=patience)\n",
        "reduce_lr = ReduceLROnPlateau(monitor='val_loss', factor=0.1, patience=int(patience/4), verbose=verbose)\n",
        "\n",
        "trained_models_path = base_path + '_mini_xception'\n",
        "model_names = trained_models_path + 'model.hdf5'\n",
        "model_checkpoint = ModelCheckpoint(filepath=model_names, monitor='val_loss', verbose=verbose, save_best_only=True)\n",
        "\n",
        "callbacks = [model_checkpoint,  early_stop, reduce_lr]"
      ],
      "execution_count": null,
      "outputs": []
    },
    {
      "cell_type": "code",
      "metadata": {
        "colab": {
          "base_uri": "https://localhost:8080/"
        },
        "id": "baOkOHhpd0Z9",
        "outputId": "cb7c51ba-399b-4f13-e030-bdfe868cb183"
      },
      "source": [
        "model.fit_generator(data_generator.flow(X_train, y_train, batch_size), \n",
        "                  steps_per_epoch=len(X_train)/batch_size, epochs=epochs, verbose=verbose, \n",
        "                  callbacks=callbacks, validation_data=(X_test, y_test))"
      ],
      "execution_count": null,
      "outputs": [
        {
          "output_type": "stream",
          "text": [
            "Epoch 1/50\n",
            "\r  1/717 [..............................] - ETA: 44s - loss: 2.2647 - accuracy: 0.1875"
          ],
          "name": "stdout"
        },
        {
          "output_type": "stream",
          "text": [
            "/usr/local/lib/python3.7/dist-packages/keras/engine/training.py:1915: UserWarning: `Model.fit_generator` is deprecated and will be removed in a future version. Please use `Model.fit`, which supports generators.\n",
            "  warnings.warn('`Model.fit_generator` is deprecated and '\n"
          ],
          "name": "stderr"
        },
        {
          "output_type": "stream",
          "text": [
            "717/717 [==============================] - 28s 40ms/step - loss: 1.8193 - accuracy: 0.3106 - val_loss: 1.6258 - val_accuracy: 0.3971\n",
            "\n",
            "Epoch 00001: val_loss improved from inf to 1.62582, saving model to ./_mini_xceptionmodel.hdf5\n"
          ],
          "name": "stdout"
        },
        {
          "output_type": "stream",
          "text": [
            "/usr/local/lib/python3.7/dist-packages/keras/utils/generic_utils.py:497: CustomMaskWarning: Custom mask layers require a config and must override get_config. When loading, the custom mask layer must be passed to the custom_objects argument.\n",
            "  category=CustomMaskWarning)\n"
          ],
          "name": "stderr"
        },
        {
          "output_type": "stream",
          "text": [
            "Epoch 2/50\n",
            "717/717 [==============================] - 26s 37ms/step - loss: 1.5845 - accuracy: 0.4016 - val_loss: 1.6550 - val_accuracy: 0.3931\n",
            "\n",
            "Epoch 00002: val_loss did not improve from 1.62582\n",
            "Epoch 3/50\n",
            "717/717 [==============================] - 27s 38ms/step - loss: 1.4552 - accuracy: 0.4518 - val_loss: 1.4670 - val_accuracy: 0.4547\n",
            "\n",
            "Epoch 00003: val_loss improved from 1.62582 to 1.46697, saving model to ./_mini_xceptionmodel.hdf5\n",
            "Epoch 4/50\n",
            "717/717 [==============================] - 28s 39ms/step - loss: 1.3823 - accuracy: 0.4811 - val_loss: 1.6326 - val_accuracy: 0.4343\n",
            "\n",
            "Epoch 00004: val_loss did not improve from 1.46697\n",
            "Epoch 5/50\n",
            "717/717 [==============================] - 25s 35ms/step - loss: 1.3275 - accuracy: 0.5029 - val_loss: 1.7410 - val_accuracy: 0.3870\n",
            "\n",
            "Epoch 00005: val_loss did not improve from 1.46697\n",
            "Epoch 6/50\n",
            "717/717 [==============================] - 26s 37ms/step - loss: 1.2805 - accuracy: 0.5187 - val_loss: 1.3854 - val_accuracy: 0.4946\n",
            "\n",
            "Epoch 00006: val_loss improved from 1.46697 to 1.38541, saving model to ./_mini_xceptionmodel.hdf5\n",
            "Epoch 7/50\n",
            "717/717 [==============================] - 28s 40ms/step - loss: 1.2512 - accuracy: 0.5299 - val_loss: 1.3045 - val_accuracy: 0.5251\n",
            "\n",
            "Epoch 00007: val_loss improved from 1.38541 to 1.30452, saving model to ./_mini_xceptionmodel.hdf5\n",
            "Epoch 8/50\n",
            "717/717 [==============================] - 26s 36ms/step - loss: 1.2364 - accuracy: 0.5369 - val_loss: 1.4255 - val_accuracy: 0.4993\n",
            "\n",
            "Epoch 00008: val_loss did not improve from 1.30452\n",
            "Epoch 9/50\n",
            "717/717 [==============================] - 28s 38ms/step - loss: 1.2115 - accuracy: 0.5476 - val_loss: 1.2592 - val_accuracy: 0.5286\n",
            "\n",
            "Epoch 00009: val_loss improved from 1.30452 to 1.25922, saving model to ./_mini_xceptionmodel.hdf5\n",
            "Epoch 10/50\n",
            "717/717 [==============================] - 25s 35ms/step - loss: 1.1897 - accuracy: 0.5582 - val_loss: 1.1943 - val_accuracy: 0.5575\n",
            "\n",
            "Epoch 00010: val_loss improved from 1.25922 to 1.19434, saving model to ./_mini_xceptionmodel.hdf5\n",
            "Epoch 11/50\n",
            "717/717 [==============================] - 27s 37ms/step - loss: 1.1802 - accuracy: 0.5588 - val_loss: 1.2139 - val_accuracy: 0.5481\n",
            "\n",
            "Epoch 00011: val_loss did not improve from 1.19434\n",
            "Epoch 12/50\n",
            "717/717 [==============================] - 26s 36ms/step - loss: 1.1626 - accuracy: 0.5647 - val_loss: 1.1905 - val_accuracy: 0.5521\n",
            "\n",
            "Epoch 00012: val_loss improved from 1.19434 to 1.19047, saving model to ./_mini_xceptionmodel.hdf5\n",
            "Epoch 13/50\n",
            "717/717 [==============================] - 25s 35ms/step - loss: 1.1485 - accuracy: 0.5694 - val_loss: 1.2049 - val_accuracy: 0.5519\n",
            "\n",
            "Epoch 00013: val_loss did not improve from 1.19047\n",
            "Epoch 14/50\n",
            "717/717 [==============================] - 27s 37ms/step - loss: 1.1336 - accuracy: 0.5764 - val_loss: 1.2062 - val_accuracy: 0.5528\n",
            "\n",
            "Epoch 00014: val_loss did not improve from 1.19047\n",
            "Epoch 15/50\n",
            "717/717 [==============================] - 27s 37ms/step - loss: 1.1258 - accuracy: 0.5784 - val_loss: 1.2775 - val_accuracy: 0.5338\n",
            "\n",
            "Epoch 00015: val_loss did not improve from 1.19047\n",
            "Epoch 16/50\n",
            "717/717 [==============================] - 24s 34ms/step - loss: 1.1164 - accuracy: 0.5837 - val_loss: 1.2518 - val_accuracy: 0.5378\n",
            "\n",
            "Epoch 00016: val_loss did not improve from 1.19047\n",
            "Epoch 17/50\n",
            "717/717 [==============================] - 27s 38ms/step - loss: 1.1086 - accuracy: 0.5861 - val_loss: 1.1114 - val_accuracy: 0.5839\n",
            "\n",
            "Epoch 00017: val_loss improved from 1.19047 to 1.11139, saving model to ./_mini_xceptionmodel.hdf5\n",
            "Epoch 18/50\n",
            "717/717 [==============================] - 25s 35ms/step - loss: 1.0950 - accuracy: 0.5915 - val_loss: 1.1138 - val_accuracy: 0.5848\n",
            "\n",
            "Epoch 00018: val_loss did not improve from 1.11139\n",
            "Epoch 19/50\n",
            "717/717 [==============================] - 27s 38ms/step - loss: 1.0888 - accuracy: 0.5957 - val_loss: 1.1636 - val_accuracy: 0.5629\n",
            "\n",
            "Epoch 00019: val_loss did not improve from 1.11139\n",
            "Epoch 20/50\n",
            "717/717 [==============================] - 27s 37ms/step - loss: 1.0872 - accuracy: 0.5952 - val_loss: 1.1074 - val_accuracy: 0.5909\n",
            "\n",
            "Epoch 00020: val_loss improved from 1.11139 to 1.10743, saving model to ./_mini_xceptionmodel.hdf5\n",
            "Epoch 21/50\n",
            "717/717 [==============================] - 26s 36ms/step - loss: 1.0718 - accuracy: 0.6004 - val_loss: 1.1212 - val_accuracy: 0.5737\n",
            "\n",
            "Epoch 00021: val_loss did not improve from 1.10743\n",
            "Epoch 22/50\n",
            "717/717 [==============================] - 28s 39ms/step - loss: 1.0726 - accuracy: 0.5991 - val_loss: 1.1994 - val_accuracy: 0.5587\n",
            "\n",
            "Epoch 00022: val_loss did not improve from 1.10743\n",
            "Epoch 23/50\n",
            "717/717 [==============================] - 25s 35ms/step - loss: 1.0630 - accuracy: 0.6034 - val_loss: 1.1041 - val_accuracy: 0.5972\n",
            "\n",
            "Epoch 00023: val_loss improved from 1.10743 to 1.10413, saving model to ./_mini_xceptionmodel.hdf5\n",
            "Epoch 24/50\n",
            "717/717 [==============================] - 26s 36ms/step - loss: 1.0546 - accuracy: 0.6034 - val_loss: 1.1720 - val_accuracy: 0.5691\n",
            "\n",
            "Epoch 00024: val_loss did not improve from 1.10413\n",
            "Epoch 25/50\n",
            "717/717 [==============================] - 26s 36ms/step - loss: 1.0545 - accuracy: 0.6084 - val_loss: 1.1078 - val_accuracy: 0.5866\n",
            "\n",
            "Epoch 00025: val_loss did not improve from 1.10413\n",
            "Epoch 26/50\n",
            "717/717 [==============================] - 25s 35ms/step - loss: 1.0489 - accuracy: 0.6111 - val_loss: 1.1509 - val_accuracy: 0.5759\n",
            "\n",
            "Epoch 00026: val_loss did not improve from 1.10413\n",
            "Epoch 27/50\n",
            "717/717 [==============================] - 28s 39ms/step - loss: 1.0407 - accuracy: 0.6129 - val_loss: 1.1846 - val_accuracy: 0.5596\n",
            "\n",
            "Epoch 00027: val_loss did not improve from 1.10413\n",
            "Epoch 28/50\n",
            "717/717 [==============================] - 27s 38ms/step - loss: 1.0326 - accuracy: 0.6179 - val_loss: 1.1603 - val_accuracy: 0.5738\n",
            "\n",
            "Epoch 00028: val_loss did not improve from 1.10413\n",
            "Epoch 29/50\n",
            "717/717 [==============================] - 26s 36ms/step - loss: 1.0317 - accuracy: 0.6168 - val_loss: 1.0907 - val_accuracy: 0.5960\n",
            "\n",
            "Epoch 00029: val_loss improved from 1.10413 to 1.09067, saving model to ./_mini_xceptionmodel.hdf5\n",
            "Epoch 30/50\n",
            "717/717 [==============================] - 27s 37ms/step - loss: 1.0241 - accuracy: 0.6168 - val_loss: 1.1714 - val_accuracy: 0.5874\n",
            "\n",
            "Epoch 00030: val_loss did not improve from 1.09067\n",
            "Epoch 31/50\n",
            "717/717 [==============================] - 28s 38ms/step - loss: 1.0231 - accuracy: 0.6195 - val_loss: 1.0891 - val_accuracy: 0.5974\n",
            "\n",
            "Epoch 00031: val_loss improved from 1.09067 to 1.08912, saving model to ./_mini_xceptionmodel.hdf5\n",
            "Epoch 32/50\n",
            "717/717 [==============================] - 26s 36ms/step - loss: 1.0175 - accuracy: 0.6232 - val_loss: 1.1588 - val_accuracy: 0.5791\n",
            "\n",
            "Epoch 00032: val_loss did not improve from 1.08912\n",
            "Epoch 33/50\n",
            "717/717 [==============================] - 28s 39ms/step - loss: 1.0114 - accuracy: 0.6225 - val_loss: 1.0973 - val_accuracy: 0.5942\n",
            "\n",
            "Epoch 00033: val_loss did not improve from 1.08912\n",
            "Epoch 34/50\n",
            "717/717 [==============================] - 26s 36ms/step - loss: 1.0155 - accuracy: 0.6189 - val_loss: 1.1262 - val_accuracy: 0.5933\n",
            "\n",
            "Epoch 00034: val_loss did not improve from 1.08912\n",
            "Epoch 35/50\n",
            "717/717 [==============================] - 26s 36ms/step - loss: 1.0068 - accuracy: 0.6230 - val_loss: 1.0990 - val_accuracy: 0.5930\n",
            "\n",
            "Epoch 00035: val_loss did not improve from 1.08912\n",
            "Epoch 36/50\n",
            "717/717 [==============================] - 27s 37ms/step - loss: 1.0078 - accuracy: 0.6248 - val_loss: 1.0593 - val_accuracy: 0.6050\n",
            "\n",
            "Epoch 00036: val_loss improved from 1.08912 to 1.05934, saving model to ./_mini_xceptionmodel.hdf5\n",
            "Epoch 37/50\n",
            "717/717 [==============================] - 25s 34ms/step - loss: 0.9992 - accuracy: 0.6285 - val_loss: 1.0881 - val_accuracy: 0.5921\n",
            "\n",
            "Epoch 00037: val_loss did not improve from 1.05934\n",
            "Epoch 38/50\n",
            "717/717 [==============================] - 27s 38ms/step - loss: 0.9926 - accuracy: 0.6309 - val_loss: 1.1114 - val_accuracy: 0.5873\n",
            "\n",
            "Epoch 00038: val_loss did not improve from 1.05934\n",
            "Epoch 39/50\n",
            "717/717 [==============================] - 27s 38ms/step - loss: 0.9938 - accuracy: 0.6319 - val_loss: 1.0757 - val_accuracy: 0.5956\n",
            "\n",
            "Epoch 00039: val_loss did not improve from 1.05934\n",
            "Epoch 40/50\n",
            "717/717 [==============================] - 26s 37ms/step - loss: 0.9912 - accuracy: 0.6306 - val_loss: 1.0882 - val_accuracy: 0.6010\n",
            "\n",
            "Epoch 00040: val_loss did not improve from 1.05934\n",
            "Epoch 41/50\n",
            "717/717 [==============================] - 25s 35ms/step - loss: 0.9866 - accuracy: 0.6337 - val_loss: 1.1046 - val_accuracy: 0.5890\n",
            "\n",
            "Epoch 00041: val_loss did not improve from 1.05934\n",
            "Epoch 42/50\n",
            "717/717 [==============================] - 27s 38ms/step - loss: 0.9818 - accuracy: 0.6322 - val_loss: 1.1085 - val_accuracy: 0.5980\n",
            "\n",
            "Epoch 00042: val_loss did not improve from 1.05934\n",
            "Epoch 43/50\n",
            "717/717 [==============================] - 25s 35ms/step - loss: 0.9790 - accuracy: 0.6312 - val_loss: 1.0922 - val_accuracy: 0.5989\n",
            "\n",
            "Epoch 00043: val_loss did not improve from 1.05934\n",
            "Epoch 44/50\n",
            "717/717 [==============================] - 27s 37ms/step - loss: 0.9703 - accuracy: 0.6382 - val_loss: 1.0549 - val_accuracy: 0.6130\n",
            "\n",
            "Epoch 00044: val_loss improved from 1.05934 to 1.05492, saving model to ./_mini_xceptionmodel.hdf5\n",
            "Epoch 45/50\n",
            "717/717 [==============================] - 27s 38ms/step - loss: 0.9731 - accuracy: 0.6384 - val_loss: 1.1092 - val_accuracy: 0.5879\n",
            "\n",
            "Epoch 00045: val_loss did not improve from 1.05492\n",
            "Epoch 46/50\n",
            "717/717 [==============================] - 25s 35ms/step - loss: 0.9704 - accuracy: 0.6392 - val_loss: 1.0637 - val_accuracy: 0.6127\n",
            "\n",
            "Epoch 00046: val_loss did not improve from 1.05492\n",
            "Epoch 47/50\n",
            "717/717 [==============================] - 28s 39ms/step - loss: 0.9649 - accuracy: 0.6405 - val_loss: 1.1527 - val_accuracy: 0.5879\n",
            "\n",
            "Epoch 00047: val_loss did not improve from 1.05492\n",
            "Epoch 48/50\n",
            "717/717 [==============================] - 26s 36ms/step - loss: 0.9631 - accuracy: 0.6413 - val_loss: 1.0668 - val_accuracy: 0.6078\n",
            "\n",
            "Epoch 00048: val_loss did not improve from 1.05492\n",
            "Epoch 49/50\n",
            "717/717 [==============================] - 27s 37ms/step - loss: 0.9641 - accuracy: 0.6400 - val_loss: 1.0714 - val_accuracy: 0.6106\n",
            "\n",
            "Epoch 00049: val_loss did not improve from 1.05492\n",
            "Epoch 50/50\n",
            "717/717 [==============================] - 27s 37ms/step - loss: 0.9546 - accuracy: 0.6451 - val_loss: 1.0946 - val_accuracy: 0.6062\n",
            "\n",
            "Epoch 00050: val_loss did not improve from 1.05492\n"
          ],
          "name": "stdout"
        },
        {
          "output_type": "execute_result",
          "data": {
            "text/plain": [
              "<keras.callbacks.History at 0x7fc83d503210>"
            ]
          },
          "metadata": {
            "tags": []
          },
          "execution_count": 23
        }
      ]
    },
    {
      "cell_type": "code",
      "metadata": {
        "id": "MMt7nFZXjTEn"
      },
      "source": [
        "y_pred = model.predict(X_test)"
      ],
      "execution_count": null,
      "outputs": []
    },
    {
      "cell_type": "code",
      "metadata": {
        "id": "hh0fhs_3jVz2"
      },
      "source": [
        "y_true = y_test"
      ],
      "execution_count": null,
      "outputs": []
    },
    {
      "cell_type": "code",
      "metadata": {
        "id": "xCJ8N4rwjYj8"
      },
      "source": [
        "y_true = np.argmax(y_true,axis=1)"
      ],
      "execution_count": null,
      "outputs": []
    },
    {
      "cell_type": "code",
      "metadata": {
        "id": "6ifgj2FejbXc"
      },
      "source": [
        "y_pred = np.argmax(y_pred>0.5,axis=1)"
      ],
      "execution_count": null,
      "outputs": []
    },
    {
      "cell_type": "code",
      "metadata": {
        "colab": {
          "base_uri": "https://localhost:8080/"
        },
        "id": "jf0SV5DHjeFM",
        "outputId": "83ec6e1d-8dd7-4756-d851-14d0c6d1aaae"
      },
      "source": [
        "from sklearn.metrics import classification_report\n",
        "target_names = ['surprise', 'fear', 'angry', 'neutral', 'sad', 'disgust', 'happy']\n",
        "print(classification_report(y_true, y_pred, target_names=target_names))"
      ],
      "execution_count": null,
      "outputs": [
        {
          "output_type": "stream",
          "text": [
            "              precision    recall  f1-score   support\n",
            "\n",
            "    surprise       0.46      0.88      0.61      1433\n",
            "        fear       0.70      0.30      0.42       764\n",
            "       angry       0.72      0.27      0.39        97\n",
            "     neutral       0.53      0.33      0.40       825\n",
            "         sad       0.57      0.57      0.57      1026\n",
            "     disgust       0.56      0.30      0.39       948\n",
            "       happy       0.74      0.68      0.71       649\n",
            "\n",
            "    accuracy                           0.54      5742\n",
            "   macro avg       0.61      0.48      0.50      5742\n",
            "weighted avg       0.57      0.54      0.52      5742\n",
            "\n"
          ],
          "name": "stdout"
        }
      ]
    },
    {
      "cell_type": "code",
      "metadata": {
        "id": "iVhjtktrjiME"
      },
      "source": [
        "from sklearn.metrics import confusion_matrix\n",
        "cm = confusion_matrix(y_true, y_pred)"
      ],
      "execution_count": null,
      "outputs": []
    },
    {
      "cell_type": "code",
      "metadata": {
        "id": "W7tXJh7bjk00"
      },
      "source": [
        "import tensorflow as tf\n",
        "confusion_matrix = tf.math.confusion_matrix(labels=y_true, predictions=y_pred).numpy()\n",
        "confusion_matrix = np.around(confusion_matrix.astype('float') / confusion_matrix.sum(axis=1)[:, np.newaxis], decimals=2)"
      ],
      "execution_count": null,
      "outputs": []
    },
    {
      "cell_type": "code",
      "metadata": {
        "id": "FkirVvBgjn4E"
      },
      "source": [
        "confusion_matrix = pd.DataFrame(confusion_matrix,\n",
        "                                index = target_names, \n",
        "                                columns = target_names)"
      ],
      "execution_count": null,
      "outputs": []
    },
    {
      "cell_type": "code",
      "metadata": {
        "colab": {
          "base_uri": "https://localhost:8080/",
          "height": 599
        },
        "id": "fLa_XnfNjqOb",
        "outputId": "948be524-fa7d-4cd2-94cc-4cd9369ad8f4"
      },
      "source": [
        "import seaborn as sns\n",
        "figure = plt.figure(figsize=(8, 8))\n",
        "sns.heatmap(confusion_matrix, annot=True,cmap=plt.cm.Blues)\n",
        "plt.tight_layout()\n",
        "plt.ylabel('True label')\n",
        "plt.xlabel('Predicted label')\n",
        "plt.show()"
      ],
      "execution_count": null,
      "outputs": [
        {
          "output_type": "display_data",
          "data": {
            "image/png": "[encoded data removed]",
            "text/plain": [
              "<Figure size 576x576 with 2 Axes>"
            ]
          },
          "metadata": {
            "tags": [],
            "needs_background": "light"
          }
        }
      ]
    }
  ]
}